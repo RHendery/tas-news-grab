{
 "cells": [
  {
   "cell_type": "markdown",
   "metadata": {},
   "source": [
    "# Quickstart for Bing News Search API with Python\n",
    "This walkthrough demonstrates a simple example of calling into the Bing News Search API and post-processing the resulting JSON object. For more information, see [Bing New Search documentation](https://docs.microsoft.com/rest/api/cognitiveservices/bing-web-api-v7-reference).  \n",
    "\n",
    "You can run this example as a Jupyter notebook on [MyBinder](https://mybinder.org) by clicking on the launch Binder badge: \n",
    "\n",
    "[![Binder](https://mybinder.org/badge.svg)](https://mybinder.org/v2/gh/Microsoft/cognitive-services-notebooks/master?filepath=BingNewsSearchAPI.ipynb)\n",
    "\n",
    "## Prerequisites\n",
    "\n",
    "You must have a [Cognitive Services API account](https://docs.microsoft.com/azure/cognitive-services/cognitive-services-apis-create-account) with **Bing Search APIs**. The [free trial](https://azure.microsoft.com/try/cognitive-services/?api=bing-web-search-api) is sufficient for this quickstart. You need the access key provided when you activate your free trial, or you may use a paid subscription key from your Azure dashboard.\n",
    "\n",
    "## Running the walkthrough\n",
    "First, set `subscription_key` to your API key for the Bing API service."
   ]
  },
  {
   "cell_type": "code",
   "execution_count": 1,
   "metadata": {},
   "outputs": [],
   "source": [
    "subscription_key = \"1fbb4aa3b3e9422d8e91e30943baa921\"\n",
    "assert subscription_key"
   ]
  },
  {
   "cell_type": "markdown",
   "metadata": {},
   "source": [
    "Next, verify that the `search_url` endpoint is correct. At this writing, only one endpoint is used for Bing search APIs. If you encounter authorization errors, double-check this value against the Bing search endpoint in your Azure dashboard."
   ]
  },
  {
   "cell_type": "code",
   "execution_count": 2,
   "metadata": {},
   "outputs": [],
   "source": [
    "search_url = \"https://api.cognitive.microsoft.com/bing/v7.0/news/search\""
   ]
  },
  {
   "cell_type": "code",
   "execution_count": null,
   "metadata": {},
   "outputs": [],
   "source": []
  },
  {
   "cell_type": "markdown",
   "metadata": {},
   "source": [
    "Set `search_term` to look for news articles about Microsoft."
   ]
  },
  {
   "cell_type": "code",
   "execution_count": 3,
   "metadata": {},
   "outputs": [],
   "source": [
    "search_term = \"West Texas Detention Facility\""
   ]
  },
  {
   "cell_type": "markdown",
   "metadata": {},
   "source": [
    "The following block uses the `requests` library in Python to call out to the Bing search APIs and return the results as a JSON object. Observe that we pass in the API key via the `headers` dictionary and the search term via the `params` dictionary. To see the full list of options that can be used to filter search results, refer to the [REST API](https://docs.microsoft.com/en-us/rest/api/cognitiveservices/bing-news-api-v7-reference) documentation."
   ]
  },
  {
   "cell_type": "code",
   "execution_count": 4,
   "metadata": {},
   "outputs": [],
   "source": [
    "import requests\n",
    "\n",
    "headers = {\"Ocp-Apim-Subscription-Key\" : subscription_key}\n",
    "params  = {\"q\": search_term, \"textDecorations\": True, \"textFormat\": \"HTML\", \"count\": 100}\n",
    "response = requests.get(search_url, headers=headers, params=params)\n",
    "response.raise_for_status()\n",
    "search_results = response.json()"
   ]
  },
  {
   "cell_type": "markdown",
   "metadata": {},
   "source": [
    "The `search_results` object contains the relevant new articles along with rich metadata. For example, the following line of code extracts the descriptions of the articles."
   ]
  },
  {
   "cell_type": "code",
   "execution_count": 5,
   "metadata": {},
   "outputs": [],
   "source": [
    "descriptions = [article[\"description\"] for article in search_results[\"value\"]]"
   ]
  },
  {
   "cell_type": "markdown",
   "metadata": {},
   "source": [
    "These descriptions can then be rendered as a table with the search keyword highlighted in **bold**."
   ]
  },
  {
   "cell_type": "code",
   "execution_count": 6,
   "metadata": {},
   "outputs": [
    {
     "data": {
      "text/html": [
       "<table><tr><td>Emerald’s 2012 ousting, by a Louisiana sheriff, from the Riverbend <b>Detention</b> <b>Center</b> when his officers discovered a mother lode of drugs, cellphones and shanks during a shakedown. A lawsuit filed by workers at the <b>West Texas Detention Facility</b> against ...</td></tr>\n",
       "<tr><td>By law, migrants can request asylum after they’ve entered the U.S. But during the summer of 2017, in parts of New Mexico and <b>West</b> <b>Texas</b> ... The government could not find <b>detention</b> <b>facilities</b> to house all the families it was prosecuting.</td></tr>\n",
       "<tr><td>PHOENIX, AZ — First lady Melania Trump was greeted by protesters outside an immigrant <b>detention</b> <b>center</b> ... Key operates 26 such <b>facilities</b> across <b>Texas</b>, Arizona and California. About 30 protesters were across the street the <b>west</b> Phoenix <b>facility</b> when ...</td></tr>\n",
       "<tr><td>LUBBOCK, <b>Texas</b> (AP) - Prosecutors say 20 people have been indicted and arrested in a <b>West</b> <b>Texas</b>-based drug trafficking and ... while more than two dozen congressional Democrats plan to visit <b>detention</b> <b>facilities</b> in <b>Texas</b>. Protests and rallies focused ...</td></tr>\n",
       "<tr><td>The Caprock Hi-Intensity Drug Trafficking Area Task Force and the <b>Texas</b> Anti ... a communications <b>facility</b>; and bulk cash smuggling. 17 of those defendants were arrested this morning, five were already in custody at the Lubbock County <b>Detention</b> <b>Center</b> ...</td></tr>\n",
       "<tr><td>First lady Melania Trump on Thursday made a surprise visit to a child <b>detention</b> <b>center</b> in South <b>Texas</b> — a move that created a compassionate ... been separated,” the president’s daughter and <b>West</b> Wing adviser tweeted. She was criticized earlier ...</td></tr>\n",
       "<tr><td>In some cases, they&#39;ve been turned away from <b>facilities</b> they have tried to visit or denied access to immigrants being held. U.S. Rep. Joaquin Castro of <b>Texas</b> and U.S. Sen ... tent structures outside the Northwest <b>Detention</b> <b>Center</b> in Tacoma, where detainees ...</td></tr>\n",
       "<tr><td>Brenda Lawrence (D-Southfield) plans to visit a federal <b>detention</b> <b>center</b> in <b>Texas</b> that is housing many of the immigrant ... at was held Monday evening at UAW Local 22 hall on Detroit&#39;s <b>west</b> side. Others speakers included Juan Gonzalez, a DACA recipient ...</td></tr>\n",
       "<tr><td>In a unanimous vote, the Humble City Council voted on Thursday the resolution to support the San Jacinto River Authority submitting a grant to the <b>Texas</b> Water Development ... and is designed for areas within the <b>West</b> Fork San Jacinto River and Spring ...</td></tr>\n",
       "<tr><td>In Spanish, she said how she and her sister were treated like animals for two months at a <b>detention</b> <b>center</b> in <b>Texas</b>. Pascual and her sister were ... who ABC News reported is a newly-enrolled student athlete at <b>West</b> Valley College in Saratoga, was taken ...</td></tr>\n",
       "<tr><td>Several of the defendants were arrested in a major operation Thursday, while others were already in <b>jail</b> on other charges ... state and local law enforcement in fighting drug trafficking in <b>West</b> <b>Texas</b>. She said the &#39;One mission, one team&#39; approach to ...</td></tr>\n",
       "<tr><td>Approximately 80 immigrant men from Kenya, Somalia and Sudan held at the <b>West</b> <b>Texas</b> <b>Detention</b> <b>Center</b> in Sierra Blanca, <b>Texas</b> have been subjected to horrific physical abuses, alleged hate crimes, and sexual abuse, according to a report recently cited by the ...</td></tr>\n",
       "<tr><td>We have learned that the Lea County Correctional <b>Facility</b> and Northeast New Mexico <b>Detention</b> <b>Facility</b> are currently on lockdown ... back in May and helped the team secure the Region V <b>West</b> Championship for the fourth consecutive year.</td></tr>\n",
       "<tr><td>After a man asked for underwear and socks in the <b>West Texas Detention Facility</b>, the warden told him: “Shut your black ass up. You don’t deserve nothing. You belong at the back of that cage.” Muslims, unsurprisingly, received the majority of the ...</td></tr>\n",
       "<tr><td>LIVE UPDATES: Melania Trump visits Southwest Key <b>facility</b> in <b>west</b> Phoenix She caused a controversy last week when she wore an olive jacket that read &quot;I REALLY DON&#39;T CARE, DO U?&quot; on a trip to a migrant children&#39;s shelter in McAllen, <b>Texas</b>. The jacket ...</td></tr>\n",
       "<tr><td>June 25 (UPI) --A migrant boy who was held after crossing the U.S.-Mexico border literally walked away from the <b>detention</b> <b>center</b> in southeast <b>Texas</b>, authorities said ... The city of La Joya, just <b>west</b> of McAllen, announced last week it would no longer ...</td></tr>\n",
       "<tr><td>LUBBOCK, <b>Texas</b> (PRESS RELEASE ... unlawful use of a communications <b>facility</b>; and bulk cash smuggling. Fifteen of those defendants were arrested yesterday, five were already in custody at the Lubbock County <b>Detention</b> <b>Center</b> on related state charges.</td></tr>\n",
       "<tr><td>In a collaborative effort spearheaded by the Caprock HIDTA (Hi-Intensity Drug Trafficking Area) Task Force and the <b>Texas</b> (Lubbock ... Five were already in custody at the Lubbock County <b>Detention</b> <b>Center</b> on related charges. Law enforcement seized ...</td></tr>\n",
       "<tr><td>Emerald’s 2012 ousting, by a Louisiana sheriff, from the Riverbend <b>Detention</b> <b>Center</b> when his officers discovered a mother lode of drugs, cellphones and shanks during a shakedown. A lawsuit filed by workers at the <b>West Texas Detention Facility</b> against ...</td></tr>\n",
       "<tr><td>He worked as a <b>Detention</b> Service Officer at the <b>West</b> Tower <b>Detention</b> <b>Facility</b> before attending the Sheriff&#39;s Academy and being promoted to Deputy Sheriff in September 2008. After graduation, Deputy Calderon worked in the Dallas County <b>Jail</b> before being ...</td></tr>\n",
       "<tr><td>The Democratic lawmakers plan to visit <b>detention</b> <b>facilities</b> Saturday in McAllen and Los Fresnos ... say was a more than $12 million Medicare billing scam. 20 indicted in <b>West</b> <b>Texas</b>-based drug trafficking ring 20 indicted in <b>West</b> <b>Texas</b>-based drug ...</td></tr>\n",
       "<tr><td>Immigration and Customs Enforcement currently has three family <b>detention</b> <b>facilities</b> - a 100 ... writers Will Weissert in McAllen, <b>Texas</b>, and Ricardo Alonso-Zaldivar in Washington, D.C., contributed to this report. A <b>West</b> Virginia delegate has filed a ...</td></tr>\n",
       "<tr><td>EL PASO, <b>Texas</b> (AP) - The Latest on the separation of immigrant ... from the southern border crisis because of a chicken pox outbreak at the Northwest <b>Detention</b> <b>Center</b> in Tacoma, Washington. The Tacoma News Tribune reports that U.S. Rep.</td></tr>\n",
       "<tr><td>The News Tribune reports 66-year-old Gary Hartman was booked into Pierce County <b>Jail</b> Wednesday afternoon ... he learned there is a kangaroo farm <b>west</b> of Dodson. McALLEN, <b>Texas</b> - Melania Trump is visiting two <b>Texas</b> <b>facilities</b> housing some of the more ...</td></tr>\n",
       "<tr><td>Souza was released from a <b>Texas</b> <b>detention</b> <b>facility</b> June 9. A lawyer on Tuesday filed a lawsuit ... Some at that shelter rushed to catch buses bound for New York, Dallas and the <b>West</b> Coast to live with family members in the hope that establishing residency ...</td></tr>\n",
       "<tr><td>The former longtime director of the Dona Ana County <b>Detention</b> <b>Center</b> has pleaded no contest to a ... The Latest: Protesters gather at <b>West</b> <b>Texas</b> border crossing The Latest: Protesters gather at <b>West</b> <b>Texas</b> border crossing Authorities say an Oklahoma man ...</td></tr>\n",
       "<tr><td>EL PASO, <b>Texas</b> (AP) — The Latest on separation of immigrant children ... Derek Kilmer went to the Northwest <b>Detention</b> <b>Center</b> on Saturday after hearing that a number of migrants who were separated from their children had been transferred there from ...</td></tr>\n",
       "<tr><td>Lawyers interviewed 30 men who stayed at the <b>West Texas Detention Facility</b> in Sierra Blanca. In the report, they allege that the men were called “monkeys, animals and terrorists” by guards and officers. The report cites interviews with the men ...</td></tr>\n",
       "<tr><td>For example, an individual detained in Southern <b>Texas</b> was called a “monkey” before ... Immigrants’ Leadership Council who was previously in ICE <b>detention</b> at the <b>West</b> County <b>Detention</b> <b>Facility</b> in Richmond, California. “I’m asking this honorable ...</td></tr>\n",
       "<tr><td>Franco-Ornelas was taken to the <b>West Texas Detention Facility</b> in Sierra Blanca and charged with Aggravated Felon Re-Entry. The region where agents arrested Franco-Ornelas leads to the Interstate 10 corridor where immigrants can be picked up in a car and ...</td></tr>\n",
       "<tr><td>In a bid to quell the national outrage over the Trump administration’s family separation policy at the U.S.-Mexico border, first lady Melania Trump recently visited the Upbring New Hope Children’s <b>Center</b>, a privately run <b>detention</b> <b>facility</b> in McAllen.</td></tr>\n",
       "<tr><td>which operates the <b>detention</b> <b>facilities</b> across the state. The inmate releases are the latest development in a scandal that has rocked the <b>Texas</b> <b>juvenile justice system</b> and consumed state officials and legislators since mid-February. The story of alleged ...</td></tr>\n",
       "<tr><td>The U.S. Navy is preparing plans to construct sprawling <b>detention</b> centers for tens of thousands of ... Read More: U.S. Attorney in <b>West</b> <b>Texas</b> Drops ‘Zero-Tolerance’ Charges Against Migrants Who Came With Children The Pentagon has been asked make ...</td></tr>\n",
       "<tr><td>A <b>West</b> Virginia inmate whose escape from <b>jail</b> went unnoticed for nearly two days almost made it across the U.S.-Mexico border. Todd Wayne Boyes was nabbed early Sunday in Laredo, <b>Texas</b> ... Afterward, a review of the <b>facility</b>&#39;s security video yielded ...</td></tr>\n",
       "<tr><td>In far <b>West</b> <b>Texas</b>, a temporary tent shelter for immigrant children was ... and 23 of the children had been separated from adults who accompanied them across the border. The <b>facility</b> has a current capacity of 360. The tents are air conditioned, and a ...</td></tr>\n",
       "<tr><td>The settlement affects class action members detained at the <b>West</b> ... at other <b>detention</b> centers around the country. Information signs are seen next to a phone at the Karnes County Residential <b>Center</b>, Thursday, July 31, 2014, in Karnes City, <b>Texas</b>.</td></tr>\n",
       "<tr><td>A conservative suburb of Austin, <b>Texas</b>, is ending a contract with a 500-bed immigration <b>detention</b> <b>center</b> that has been a target of lawsuits ... 10:30 a.m. on Washington Street, near the <b>west</b> entrance, WSBTV reported. He got out of the car and walking ...</td></tr>\n",
       "<tr><td>... a roughly 25-day sentence <b>jail</b> sentence for illegally entering the country and then placed in immigration <b>detention</b> <b>facilities</b> in <b>West</b> <b>Texas</b>, while her son was taken to a Chicago <b>facility</b>. The U.S. Department of Homeland Security has not announced a ...</td></tr>\n",
       "<tr><td>has already made a $100,000 ad buy in 10 states, including <b>West</b> Virginia ... law enforcement officials and tour a <b>facility</b> where immigrant families are being detained. Trump also visited immigrant children at a <b>Texas</b> <b>facility</b> last week, some of whom ...</td></tr>\n",
       "<tr><td>Authorities say <b>Center</b>, <b>Texas</b>, police began the pursuit Monday afternoon in connection with some type of theft. The chase ended about 30 miles <b>west</b> in Louisiana ... Hubbard is being held in DeSoto Parish <b>Detention</b> <b>Center</b> on one count each of aggravated ...</td></tr>\n",
       "<tr><td>When she was released June 9 from a <b>Texas</b> <b>facility</b>, she filled out nearly 40 pages of documents ... Some at that shelter rushed to catch buses bound for New York, Dallas and the <b>West</b> Coast to live with family members in the hope that establishing residency ...</td></tr>\n",
       "<tr><td>An inmate who busted out of <b>jail</b> in <b>West</b> Virginia Wednesday was caught about 4 a.m. Sunday — trying to cross from <b>Texas</b> into Mexico ... Authorities said a review of the <b>facility</b>’s <b>jail</b>’s security video showed Boyes leaving the <b>facility</b> the previous ...</td></tr>\n",
       "<tr><td>It happened at the intersection of County Road North/South 118 and County Road East/<b>West</b> 3, north of the town of ... New Images Of <b>Detention</b> <b>Facility</b> For Immigrant Minors In <b>Texas</b> New Images Of <b>Detention</b> <b>Facility</b> For Immigrant Minors In <b>Texas</b> New images ...</td></tr>\n",
       "<tr><td><b>Texas</b>, criminal district attorney&#39;s office, the Panola County Sheriff&#39;s Office reports. The two are being held in the Panola County <b>Detention</b> <b>Center</b> pending arraignment on a charge of injury to a child. Their bonds were set at $150,000 each &quot;and a ...</td></tr>\n",
       "<tr><td>Canadian County got a phone tip to go to a stone farm house about four miles <b>West</b> of Lucky Star Casino ... because their owners are in <b>jail</b>. New Images Of <b>Detention</b> <b>Facility</b> For Immigrant Minors In <b>Texas</b> New Images Of <b>Detention</b> <b>Facility</b> For Immigrant ...</td></tr>\n",
       "<tr><td>He had visited the family <b>detention</b> centers in <b>Texas</b> and made the connection ... along a dusty road outside the barbed-wire fence surrounding another <b>center</b> in Dilley, 75 miles <b>west</b> of Karnes City. A spring breeze ruffled Ina&#39;s short, salt-and-pepper ...</td></tr>\n",
       "<tr><td>... Transfer <b>Facility</b> in Bridgeport and the Bartlett State <b>Jail</b> in Bartlett. The four closures double the number of <b>facilities</b> which shut their doors within the last 10 years. <b>West</b> <b>Texas</b> ISF’s closure will also affect the TDCJ’s Rudd Unit, which is ...</td></tr>\n",
       "<tr><td>Among those arrested Thursday was Morsello Hooker, a 31-year-old corrections officer at a rural <b>West</b> <b>Texas</b> lockup ... worked at the TJJD <b>facility</b> in Brownwood. He was arrested in Brownwood and was booked into the Brown County <b>Jail</b>. <b>Texas</b>’ juvenile ...</td></tr>\n",
       "<tr><td>authorities suspect Colbert broke the phone and fired eight shots from a handgun through the <b>jail</b>’s release door. As deputies investigated the noise, Fairfield police began a pursuit of a car seen speeding <b>west</b> on <b>Texas</b> Street. Sheriff’s deputies ...</td></tr>\n",
       "<tr><td>It’s about 20 miles south of <b>Center</b>, 30 miles east of Nacogdoches and 20 miles <b>west</b> of the Louisiana state line. “This is the armpit of East <b>Texas</b>,” Jason Monday delicately ... county courthouse and historic <b>jail</b>. She wrote local history books.</td></tr>\n",
       "<tr><td>Tulsa fire crews went door-to-door in <b>West</b> Tulsa installing smoke alarms and talking ... First Lady Melania Trump has arrived at a <b>detention</b> <b>center</b> in <b>Texas</b> housing immigrant children separated from their parents at the U.S.-Mexico border.</td></tr>\n",
       "<tr><td>Adams allegedly shot his wife at their <b>West</b> Waco home at about 7:30 ... Adams had not been booked into <b>jail</b> as of Monday night, according to McLennan County <b>Detention</b> <b>Center</b> records.</td></tr>\n",
       "<tr><td>She was booked into the <b>West</b> Feliciana Parish <b>Detention</b> <b>Center</b> on charges of felony malfeasance ... The Caprock Hi-Intensity Drug Trafficking Area Task Force and the <b>Texas</b> Anti-Gang <b>Center</b> charged 20 people with federal drug conspiracy and other drug ...</td></tr>\n",
       "<tr><td>2016 on South 12th Street near <b>West</b> ON Avenue in <b>Texas</b> Township. Her vehicle crossed the <b>center</b> line, crashing into Miles&#39; vehicle. Miles, 83, was taken to Bronson Methodist Hospital, where she later died. Sandt pleaded no contest Jan. 26 to one count of ...</td></tr>\n",
       "<tr><td>Attorneys for some of the detainees say at least a dozen Minnesota Somalis are part of a larger group under <b>detention</b> in <b>Texas</b> ... said she has tried unsuccessfully to find an attorney in <b>west</b> <b>Texas</b> who could challenge the deportations in federal court ...</td></tr>\n",
       "<tr><td><b>West</b> Frankfort, Illinois is celebrating its long history ... arrested at the U.S. border are being held in metal cages at a family <b>detention</b> <b>facility</b> in McAllen, <b>Texas</b>. Hundreds of unaccompanied child immigrants arrested at the U.S. border are being ...</td></tr>\n",
       "<tr><td>Until then, he remains in the Craighead County <b>Detention</b> <b>Center</b>. He is one of four men arrested last week ... Officials in Lawrence County are asking people on the <b>west</b> side of Imboden to keep their doors locked as law enforcement looks for an armed ...</td></tr>\n",
       "<tr><td>The fire was around two miles <b>west</b> of Pryor Creek and two miles south of Highway ... First Lady Melania Trump has arrived at a <b>detention</b> <b>center</b> in <b>Texas</b> housing immigrant children separated from their parents at the U.S.-Mexico border.</td></tr>\n",
       "<tr><td>TEHRAN (FNA)- Supreme Leader of the Islamic Revolution Ayatollah Seyed Ali Khamenei blasted <b>West</b>, specially the US ... an NBC report that detailed the conditions inside a <b>Texas</b> immigrant <b>detention</b> <b>center</b> where children were allowed outside for only ...</td></tr>\n",
       "<tr><td><b>Mother Jones</b> magazine confirmed Wednesday ... Burns said Bauer began work at the <b>facility</b> in December and resigned Tuesday. <b>West</b> was arrested on Friday and spent the night in <b>jail</b> after authorities in Winnfield, Louisiana, were notified that a person ...</td></tr>\n",
       "<tr><td>An East <b>Texas</b> man suspected of murdering his girlfriend ... Cooper was transported to the Lower Keys Medical <b>Center</b> where she was pronounced dead. Baker is currently in the Upshur County <b>Jail</b>, with a $1 million bond. Two young East Texans became friends ...</td></tr>\n",
       "<tr><td>(AP) - A man has filed a lawsuit against two former <b>jail</b> deputies ... Trooper Finley said he learned there is a kangaroo farm <b>west</b> of Dodson. McALLEN, <b>Texas</b> - Melania Trump is visiting two <b>Texas</b> <b>facilities</b> housing some of the more than 2,300 migrant ...</td></tr>\n",
       "<tr><td><b>West</b> pleaded guilty to weapons and traffic charges, but was able to avoid <b>jail</b>; instead he got electronic monitoring ... He said he tried to rent apartments around North <b>Texas</b> but failed, because they were either too expensive or he wasn&#39;t allowed because ...</td></tr>\n",
       "<tr><td>Bruno was found dead at the scene when police arrived near the intersection of <b>Texas</b> Avenue and <b>West</b> Frontage Road ... to Valley Baptist Medical <b>Center</b>. The three children remain in critical condition. According to <b>jail</b> records, Navarro has been arrested ...</td></tr>\n",
       "<tr><td>His diagnosis, just a day after he&#39;d been released from Jefferson County <b>Jail</b> in Beaumont, <b>Texas</b>, was a bruised scrotum, police say. Clearly, Wednesday wasn&#39;t Ryan Allen Prajzner&#39;s day. Police in the tiny town of Vidor, just 15 miles <b>west</b> of Beaumont ...</td></tr>\n",
       "<tr><td>At 6:28 p.m. on Saturday, June 9, 2018, emergency crews were called for an unresponsive person pulled from the water near Ukumehame Beach Park in <b>West</b> Maui ... man was transported to Maui Memorial Medical <b>Center</b> in critical condition at around 7 p.m ...</td></tr>\n",
       "<tr><td>The shooting happened at the <b>West</b> Side Liquor Store in Sikeston at 9:10 ... Hundreds of children wait in Border Patrol <b>facility</b> in <b>Texas</b> Hundreds of children wait in Border Patrol <b>facility</b> in <b>Texas</b> Hundreds of children are waiting away from their parents ...</td></tr>\n",
       "<tr><td>Beck Justice <b>Center</b> in La Grange, <b>Texas</b>. Alvarez is in the <b>jail</b> on a $50,000 bond ... The highway is a major east-<b>west</b> thoroughfare connecting El Paso, San Antonio, and Houston. Fayette County Sheriff Keith Korenek made drug enforcement a major priority ...</td></tr>\n",
       "<tr><td>A <b>Texas</b> man accused of holding his baby girl ... that ended with him surrendering at Baylor Scott &amp; White Medical <b>Center</b>, The Dallas Morning News reported. He remained in Ellis County <b>jail</b> Thursday. &quot;What he did, right there, was so out of character ...</td></tr>\n",
       "<tr><td>Donald Specter, the plaintiffs&#39; lead attorney, said he is negotiating a settlement with Santa Clara <b>jail</b> officials that he hopes will require improved conditions for inmates. &quot;Jails statewide need to take a look at this issue,&quot; he said. In <b>Texas</b> ...</td></tr>\n",
       "<tr><td>Authorities have kept quiet about potential suspects, while people in town speculated it was the work of the Aryan Brotherhood of <b>Texas</b>, a white supremacist <b>jail</b> ... in the <b>west</b>, where the McLellands lived. The town of Kaufman lies in the <b>center</b> of the ...</td></tr>\n",
       "<tr><td>Late Tuesday, <b>West</b> Baton Rouge Parish sheriff&#39;s deputies received a ... The juvenile, was taken to a local <b>detention</b> <b>center</b>. One of the suspects, Dean Favron, just finished serving almost seven years in prison for aggravated assault on a Baton Rouge ...</td></tr>\n",
       "<tr><td>Geneva Reed-Veal, left, and Sharon Cooper, <b>center</b>, the mother and sister ... sheriff&#39;s office or jailers in the treatment of <b>Sandra Bland</b>, a black Naperville woman who died last summer in a Southeast <b>Texas</b> county <b>jail</b>. But prosecutor Darrell Jorden said ...</td></tr>\n",
       "<tr><td>Polk Correctional <b>Facility</b>, according to its website. He appeared before a judge Saturday morning with his attorney, Don <b>West</b>, who also represented Zimmerman ... He was previously pulled over for speeding in northern <b>Texas</b> about two weeks after he was ...</td></tr>\n",
       "<tr><td>On April 29, a Central <b>Texas</b> high school senior was lucky to make it out of one of those wrecks alive. Eighteen-year-old Parker Kazda was heading home from Waco to <b>West</b> when he was hit ... Jeep has been in a collision <b>center</b> since the accident and he&#39;s ...</td></tr>\n",
       "<tr><td>According to Ronald “Cook” Barrett, an Albany-based gang-prevention expert, MS-13’s adoption of the shoe as an “identifier” is part of the gang’s <b>west</b> coast origins ... an inmate in <b>Texas</b> describes on Prison Writers, a website that publishes ...</td></tr>\n",
       "<tr><td>When people receive food from the Ron Wood Family Resource <b>Center</b> ... for &quot;Rally Route 50 <b>West</b>,&quot; a cross-country automobile race in July organized by Rally North America. A 35-year-old Carson City man set to be released from <b>jail</b> Tuesday was booked ...</td></tr>\n",
       "<tr><td>SAN ANTONIO (AP) — Authorities in <b>Texas</b> say a woman is in critical condition after ... The statement says the deputy, assigned to the <b>detention</b> <b>center</b>, is being placed on administrative leave.</td></tr>\n",
       "<tr><td>Detained asylum-seeking mothers at a for-profit <b>detention</b> <b>center</b> in <b>Texas</b> have gone on a hunger strike seeking their release, Freedom Speech Radio News reports. The women, many of whom fled their countries in Central America out of fear of violence or ...</td></tr>\n",
       "<tr><td>McLennan County will pay $1.9 million more each year to house inmates at the Jack Harwell <b>Detention</b> <b>Center</b> after ... construction of the Harwell <b>Center</b>. LaSalle Corrections has operated correctional centers throughout <b>Texas</b>, Louisiana, and Georgia since ...</td></tr>\n",
       "<tr><td>Police in at least two states are still on the lookout for Ricky Ramon Sena, 24, Aaron Davis Clark, 31, and Victor Andrew Apodaca, 28, after the trio broke out of the Curry County <b>Detention</b> <b>Center</b> in Clovis ... Sheriff&#39;s Office in <b>Texas</b> caught up with ...</td></tr>\n",
       "<tr><td>HOUSTON (AP) - U.S. authorities have confirmed that a Honduran man was found dead in a <b>Texas</b> <b>jail</b> cell of an &quot;apparent suicide&quot; last ... to the Rio Grande Valley immigration processing <b>center</b>. The Post report, citing unnamed Border Patrol agents, said ...</td></tr>\n",
       "<tr><td>Since the beginning of 2016, 14 detainees have been released from the <b>detention</b> <b>facility</b>. Previously released detainees include Al Qaeda terrorists and a man who pledged to kill Americans should he be allowed back home. Moreover, the Obama Administration ...</td></tr>\n",
       "<tr><td>Deputies say Barhonovich is booked in the Jackson County Adult <b>Detention</b> <b>Center</b> without bond ... The Caprock Hi-Intensity Drug Trafficking Area Task Force and the <b>Texas</b> Anti-Gang <b>Center</b> charged 20 people with federal drug conspiracy and other drug charges.</td></tr>\n",
       "<tr><td>Ronald Cruz, 39, from Honduras, entered ICE custody at the Port Isabel <b>Detention</b> <b>Center</b> in Los Fresnos, on May 14. On May 16, ICE reported the death of Cruz at the Valley Baptist Medical <b>Center</b>. An autopsy is scheduled to determine his cause of death.</td></tr>\n",
       "<tr><td>WACO, <b>Texas</b> (KWTX) Atmos Energy and Waco Fire crews responded to multiple reports of a smell of gas in the area of the Jack Harwell <b>Detention</b> <b>Center</b> and the McLennan County <b>Jail</b> off of Highway 6. Sheriff&#39;s Office officials said both jails were checked ...</td></tr>\n",
       "<tr><td>MARSHALL, <b>Texas</b> (AP ... for a county <b>jail</b> inmate with a long criminal record who disappeared from a work detail. Officials say 36-year-old Gary Gorman is believed headed for Dallas, about 150 miles (241.39 kilometers) to the <b>west</b>. Gorman was assigned ...</td></tr>\n",
       "<tr><td>Ethan Couch – the 18-year-old <b>Texas</b> man known as the “affluenza teen” – has been transferred to an adult <b>jail</b> after spending a week in a juvenile <b>detention</b> <b>center</b>, PEOPLE confirms. A source at the Tarrant County Sheriff’s Office tells PEOPLE that ...</td></tr>\n",
       "<tr><td>Ector County Commissioners voted 2-1 to accept certain improvements to the Ector County <b>Detention</b> <b>Center</b> and the <b>jail</b> expansion ... as well as a large <b>Texas</b> star floor graphic for the expansion building. Pierce said the hollow metal door and frame ...</td></tr>\n",
       "<tr><td>HEMPSTEAD, <b>Texas</b> -- An initial toxicology report for Sandra Bland, who died in a <b>Texas</b> <b>jail</b> cell three days after her arrest during a traffic stop, raises the possibility that she may have used marijuana while in custody, two experts said. The amount of ...</td></tr>\n",
       "<tr><td>The vehicle immediately sped away, leading law enforcement on a chase from 57th Street and Dixie Boulevard and ended near <b>West</b> Loop 338 and Wireline ... before being booked into the Ector County <b>Detention</b> <b>Center</b>. Quantities of meth, heroin and a revolver ...</td></tr>\n",
       "<tr><td>At approximately 6:22 p.m., deputies at the Peter J. Pitchess <b>Detention</b>-South <b>Facility</b> noticed an inmate appeared to be choking in the dining room, according to a news release. Deputy Carlos Escamilla saw the 36-year-old inmate was having breathing ...</td></tr>\n",
       "<tr><td>Decades of oil drilling in <b>West</b> <b>Texas</b> have destabilized localities in a 4,000-square-mile area, which is populated by small towns, roadways and a vast network of oil and gas pipelines, and storage tanks. According to a new study from Southern Methodist ...</td></tr>\n",
       "<tr><td>Los Angeles County sheriff’s deputy who was arrested on suspicion of sexually assaulting two female inmates inside a county <b>jail</b> earlier this year is now accused of attacking another woman inside the same <b>facility</b>, authorities said Wednesday. Giancarlo ...</td></tr>\n",
       "<tr><td>Authorities accuse a Whitakers women of recently trying to smuggle drugs as an entering inmate into the Edgecombe County <b>Detention</b> <b>Center</b>. Tiffany Michelle Cole ... said Lt. Kevin <b>West</b> of the Sheriff’s Office Narcotics Division. Zolpidem is a strong ...</td></tr>\n",
       "<tr><td>She is a facing a charge in <b>Texas</b> of negligent homicide. &quot;She was cooperative, and she was taken to the Sebastian County Adult <b>Detention</b> <b>Center</b> without incident,&quot; said Cpl. Anthony Rice with the Fort Smith Police Department. According to court documents ...</td></tr>\n",
       "<tr><td>Today, a half century later, those empty pads lie in a corner of the Krome <b>detention</b> <b>center</b> in <b>west</b> Miami-Dade — between the law library and a dormitory where some of the <b>facility</b>’s 600 foreign detainees are held. Many new structures have since been ...</td></tr></table>"
      ],
      "text/plain": [
       "<IPython.core.display.HTML object>"
      ]
     },
     "execution_count": 6,
     "metadata": {},
     "output_type": "execute_result"
    }
   ],
   "source": [
    "from IPython.display import HTML\n",
    "rows = \"\\n\".join([\"<tr><td>{0}</td></tr>\".format(desc) for desc in descriptions])\n",
    "HTML(\"<table>\"+rows+\"</table>\")"
   ]
  },
  {
   "cell_type": "markdown",
   "metadata": {},
   "source": [
    "## Next steps\n",
    "\n",
    "> [!div class=\"nextstepaction\"]\n",
    "> [Paging news](paging-news.md)\n",
    "> [Using decoration markers to highlight text](hit-highlighting.md)\n",
    "\n",
    "## See also \n",
    "\n",
    " [Searching the web for news](search-the-web.md)  \n",
    " [Try it](https://azure.microsoft.com/services/cognitive-services/bing-news-search-api/)"
   ]
  }
 ],
 "metadata": {
  "kernelspec": {
   "display_name": "Python 3",
   "language": "python",
   "name": "python3"
  },
  "language_info": {
   "codemirror_mode": {
    "name": "ipython",
    "version": 3
   },
   "file_extension": ".py",
   "mimetype": "text/x-python",
   "name": "python",
   "nbconvert_exporter": "python",
   "pygments_lexer": "ipython3",
   "version": "3.6.3"
  },
  "ms_docs_meta": {
   "author": "jerrykindall",
   "description": "Get information and code samples to help you quickly get started using the Bing News Search API in Microsoft Cognitive Services on Azure.",
   "documentationcenter": "''",
   "ms.author": "v-jerkin",
   "ms.date": "9/21/2017",
   "ms.service": "cognitive-services",
   "ms.technology": "bing-search",
   "ms.topic": "article",
   "services": "cognitive-services",
   "title": "Python Quickstart for Azure Cognitive Services, Bing News Search API | Microsoft Docs"
  }
 },
 "nbformat": 4,
 "nbformat_minor": 2
}
