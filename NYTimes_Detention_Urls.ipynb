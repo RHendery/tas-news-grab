{
 "cells": [
  {
   "cell_type": "markdown",
   "metadata": {},
   "source": [
    "*Written by Gregory Palermo, 2018-06-30*"
   ]
  },
  {
   "cell_type": "markdown",
   "metadata": {},
   "source": [
    "This notebook queries the NYTimes Article Search API for mention of a particular center.\n",
    "It returns the metadata associated with each article in a PANDAS dataframe.\n",
    "Using the \"web_url\" will allow for web-scraping of the article text at a later date.\n",
    "\n",
    "It has been adapted from Laura Nelson's \"Analyzing Complex Digitzed Data Course\" (Northeastern Univeristy)\n",
    "\n",
    "Next Steps:\n",
    "1. Query Refinement\n",
    "    - Figure out what keywords to use in addition to the center's name (The full name itself won't work, since they are more often mentioned as \"A detention center in Artesia, N.M\" than \"Artesia Family Residential Center\")\n",
    "    - Incorporate Patrick Juola's Levenshtein distance for fuzzy matching?\n",
    "2. Use code written by Sydney colleague (forgot her name!) to use the URLs to scrape full text of articles.\n",
    "3. Scale this up to work for a list of centers rather than just one. Note that API limits to 1000 queries/day without contacting NYT (otherwise, they assume commercial use).\n"
   ]
  },
  {
   "cell_type": "code",
   "execution_count": 1,
   "metadata": {
    "collapsed": false
   },
   "outputs": [],
   "source": [
    "#Importing relevant packages\n",
    "from __future__ import division\n",
    "import requests\n",
    "import json\n",
    "import math\n",
    "import time # for pauses between calls\n",
    "import pandas # for dataframes\n",
    "import csv # to write to file\n"
   ]
  },
  {
   "cell_type": "code",
   "execution_count": 48,
   "metadata": {
    "collapsed": true
   },
   "outputs": [],
   "source": [
    "# Forming the API Query\n",
    "# NYTimes API documentation available at https://developer.nytimes.com/\n",
    "# key can be requested from https://developer.nytimes.com/signup\n",
    "# API Limits: 1 query/sec; 1000 queries/day by default\n",
    "key = \"b491e3c62bd841a1a9ca3acf746be117\" # please change!\n",
    "base_url = \"https://api.nytimes.com/svc/search/v2/articlesearch.json\"\n"
   ]
  },
  {
   "cell_type": "code",
   "execution_count": 20,
   "metadata": {
    "collapsed": false,
    "scrolled": true
   },
   "outputs": [
    {
     "name": "stdout",
     "output_type": "stream",
     "text": [
      "number of hits: 2\n",
      "number of pages:  1\n"
     ]
    }
   ],
   "source": [
    "#Search parameters — change the \"q\" here for whatever center (need to figure out how to make keywords)\n",
    "search_params = {\"q\": '\"Artesia\"'+ \" \" + '\"detention+center\"',\n",
    "                 \"api-key\": key,\n",
    "                 \"begin_date\": \"20180501\", # Beginning of May seems like a reasonable window for this...\n",
    "                 \"end_date\": \"20180629\", # change this to today's date!\n",
    "                 #\"document_type\": \"article\"\n",
    "                }\n",
    "\n",
    "# Initial request to see hwo many hits there will be before querying page by page\n",
    "request = requests.get(base_url,params=search_params)\n",
    "\n",
    "# converting the response to JSON\n",
    "initial_data = json.loads(request.text)\n",
    "\n",
    "# How many hits are there for this query?\n",
    "hits = initial_data['response']['meta']['hits']\n",
    "print(\"number of hits:\", str(hits))\n",
    "\n",
    "# How many pages of results? (NYTimes gives 10 results per page)\n",
    "# necessary in order to loop through pages of results later\n",
    "pages = int(math.ceil(hits/10))\n",
    "print(\"number of pages: \", str(pages))"
   ]
  },
  {
   "cell_type": "markdown",
   "metadata": {},
   "source": [
    "In case you need to check the request URL for a more complicated query syntax"
   ]
  },
  {
   "cell_type": "code",
   "execution_count": 21,
   "metadata": {
    "collapsed": false
   },
   "outputs": [
    {
     "data": {
      "text/plain": [
       "'https://api.nytimes.com/svc/search/v2/articlesearch.json?q=%22Artesia%22+%22detention%2Bcenter%22&api-key=b491e3c62bd841a1a9ca3acf746be117&begin_date=20180501&end_date=20180629'"
      ]
     },
     "execution_count": 21,
     "metadata": {},
     "output_type": "execute_result"
    }
   ],
   "source": [
    "request.url"
   ]
  },
  {
   "cell_type": "markdown",
   "metadata": {},
   "source": [
    "The below code creates an empty dataframe, loops through the pages of results calculated above, and adds the response from each page to a dataframe."
   ]
  },
  {
   "cell_type": "code",
   "execution_count": 22,
   "metadata": {
    "collapsed": false
   },
   "outputs": [
    {
     "name": "stdout",
     "output_type": "stream",
     "text": [
      "collecting page 0\n",
      "done\n"
     ]
    }
   ],
   "source": [
    "# Creating an empty dataframe to store the data\n",
    "articles = pandas.DataFrame()\n",
    "\n",
    "# looping through the pages of results and adding them to df\n",
    "for i in range(pages):\n",
    "    print(\"collecting page\", str(i)) # shows in console\n",
    "    \n",
    "    # setting the page parameter\n",
    "    search_params['page'] = i\n",
    "    \n",
    "    # making the request\n",
    "    r = requests.get(base_url, params = search_params)\n",
    "    \n",
    "    # getting the text and converting it to a dictionary\n",
    "    data = json.loads(r.text)\n",
    "    \n",
    "    # getting the docs from the dictionary (which also includes...)\n",
    "    docs = data['response']['docs']\n",
    "    df_temp = pandas.DataFrame(docs)\n",
    "    \n",
    "    #adding those docs to the master dataframe\n",
    "    articles = pandas.concat([articles,df_temp],ignore_index=True)\n",
    "    \n",
    "    time.sleep(1) # pause between calls to prevent refusal\n",
    "\n",
    "print ('done')\n",
    "    "
   ]
  },
  {
   "cell_type": "markdown",
   "metadata": {},
   "source": [
    "Here, there are two mentions of Artesia since May. (There are many more before, FYI)"
   ]
  },
  {
   "cell_type": "code",
   "execution_count": 46,
   "metadata": {
    "collapsed": false
   },
   "outputs": [
    {
     "name": "stdout",
     "output_type": "stream",
     "text": [
      "https://www.nytimes.com/2018/06/25/opinion/family-detention-immigration.html\n",
      "https://www.nytimes.com/2018/06/22/opinion/children-detention-trump-executive-order.html\n"
     ]
    }
   ],
   "source": [
    "# printing out the article URLs\n",
    "for i in articles['web_url']:\n",
    "    print(i)"
   ]
  },
  {
   "cell_type": "markdown",
   "metadata": {},
   "source": [
    "Here's what's included by default in responses.\n",
    "The API doc has a full list of available metadata that can can be included in the query."
   ]
  },
  {
   "cell_type": "code",
   "execution_count": 27,
   "metadata": {
    "collapsed": false
   },
   "outputs": [
    {
     "data": {
      "text/plain": [
       "['_id',\n",
       " 'blog',\n",
       " 'byline',\n",
       " 'document_type',\n",
       " 'headline',\n",
       " 'keywords',\n",
       " 'multimedia',\n",
       " 'news_desk',\n",
       " 'print_page',\n",
       " 'pub_date',\n",
       " 'score',\n",
       " 'snippet',\n",
       " 'source',\n",
       " 'type_of_material',\n",
       " 'uri',\n",
       " 'web_url',\n",
       " 'word_count']"
      ]
     },
     "execution_count": 27,
     "metadata": {},
     "output_type": "execute_result"
    }
   ],
   "source": [
    "list(articles)"
   ]
  }
 ],
 "metadata": {
  "kernelspec": {
   "display_name": "Python 3",
   "language": "python",
   "name": "python3"
  },
  "language_info": {
   "codemirror_mode": {
    "name": "ipython",
    "version": 3
   },
   "file_extension": ".py",
   "mimetype": "text/x-python",
   "name": "python",
   "nbconvert_exporter": "python",
   "pygments_lexer": "ipython3",
   "version": "3.6.0"
  }
 },
 "nbformat": 4,
 "nbformat_minor": 2
}
